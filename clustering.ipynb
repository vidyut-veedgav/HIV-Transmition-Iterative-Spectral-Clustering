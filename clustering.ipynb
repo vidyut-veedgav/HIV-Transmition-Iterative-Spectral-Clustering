{
 "cells": [
  {
   "cell_type": "markdown",
   "metadata": {},
   "source": [
    "EMPLOYING SPECTRAL CLUSTERING ON THE TEMPORAL DATASET"
   ]
  },
  {
   "cell_type": "code",
   "execution_count": 10,
   "metadata": {},
   "outputs": [
    {
     "data": {
      "text/plain": [
       "[<networkx.classes.graph.Graph at 0x10bffce90>,\n",
       " <networkx.classes.graph.Graph at 0x10bffc710>,\n",
       " <networkx.classes.graph.Graph at 0x10c19cc00>,\n",
       " <networkx.classes.graph.Graph at 0x10c19ce10>,\n",
       " <networkx.classes.graph.Graph at 0x10cf26350>]"
      ]
     },
     "execution_count": 10,
     "metadata": {},
     "output_type": "execute_result"
    }
   ],
   "source": [
    "# Saving edgelist data as graphs\n",
    "from GraphLoader import GraphLoader\n",
    "\n",
    "# Storing the edgelist paths as temporal data (t, g) - NOTE: Not full dataset, localized to 5 years\n",
    "edgelist_paths = {\n",
    "    0: \"stable_hiv_contact_network/2000-01_graph_edges.csv\",\n",
    "    1: \"stable_hiv_contact_network/2000-02_graph_edges.csv\",\n",
    "    2: \"stable_hiv_contact_network/2000-03_graph_edges.csv\",\n",
    "    3: \"stable_hiv_contact_network/2000-04_graph_edges.csv\",\n",
    "    4: \"stable_hiv_contact_network/2000-05_graph_edges.csv\"\n",
    "}\n",
    "graph_list = []\n",
    "for t in edgelist_paths.keys():\n",
    "    g = GraphLoader(edgelist_paths[t]).graph\n",
    "    graph_list.append(g)"
   ]
  },
  {
   "cell_type": "code",
   "execution_count": null,
   "metadata": {},
   "outputs": [],
   "source": [
    "# Implementing algorithm\n",
    "import networkx as nx\n",
    "\n",
    "def incremental_approximate_spectral_clustering(graph_list, k, l, R):\n",
    "    \"\"\"\n",
    "    Parameters:\n",
    "    graph_list: list of graphs G(1),...,G(T)\n",
    "    k: no. clusters\n",
    "    l: approximation rank\n",
    "    R: eigendecomposition step size\n",
    "    \"\"\"\n",
    "    # 1. Compute shifted laplacian matrix of initial graph\n",
    "    g0 = graph_list[0]\n",
    "    g0_laplacian = nx.laplacian_matrix(g0)\n",
    "    \n"
   ]
  }
 ],
 "metadata": {
  "kernelspec": {
   "display_name": "venv",
   "language": "python",
   "name": "python3"
  },
  "language_info": {
   "codemirror_mode": {
    "name": "ipython",
    "version": 3
   },
   "file_extension": ".py",
   "mimetype": "text/x-python",
   "name": "python",
   "nbconvert_exporter": "python",
   "pygments_lexer": "ipython3",
   "version": "3.13.0"
  }
 },
 "nbformat": 4,
 "nbformat_minor": 2
}
